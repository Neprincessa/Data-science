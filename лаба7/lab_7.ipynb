{
 "cells": [
  {
   "cell_type": "markdown",
   "metadata": {},
   "source": [
    "# Лабораторная работа 7"
   ]
  },
  {
   "cell_type": "markdown",
   "metadata": {},
   "source": [
    "В работе использовался пакет `ipython-sql` и образ MADlib в докере\n",
    "После того как собрали докер с MADlib и PostgreSQL, установим MADlib в нашу БД. \n",
    "```\n",
    "src/bin/madpack -p postgres -c postgres/postgres@localhost:5432/lab7 install\n",
    "```\n"
   ]
  },
  {
   "cell_type": "code",
   "execution_count": 21,
   "metadata": {},
   "outputs": [
    {
     "name": "stdout",
     "output_type": "stream",
     "text": [
      "The sql extension is already loaded. To reload it, use:\n",
      "  %reload_ext sql\n"
     ]
    }
   ],
   "source": [
    "%load_ext sql"
   ]
  },
  {
   "cell_type": "code",
   "execution_count": 22,
   "metadata": {},
   "outputs": [],
   "source": [
    "# PostgreSQL local\n",
    "%sql postgresql://postgres@localhost:5432/lab7"
   ]
  },
  {
   "cell_type": "markdown",
   "metadata": {},
   "source": [
    "## Загрузка данных\n",
    "Создаем таблицу по заданию"
   ]
  },
  {
   "cell_type": "code",
   "execution_count": 23,
   "metadata": {},
   "outputs": [
    {
     "name": "stdout",
     "output_type": "stream",
     "text": [
      " * postgresql://postgres@localhost:5432/lab7\n",
      "Done.\n",
      "Done.\n"
     ]
    },
    {
     "data": {
      "text/plain": [
       "[]"
      ]
     },
     "execution_count": 23,
     "metadata": {},
     "output_type": "execute_result"
    }
   ],
   "source": [
    "%%sql\n",
    "DROP TABLE IF EXISTS survey;\n",
    "\n",
    "CREATE TABLE survey(\n",
    "    mydepv INTEGER, \n",
    "    price INTEGER, \n",
    "    income INTEGER, \n",
    "    age INTEGER\n",
    "    );"
   ]
  },
  {
   "cell_type": "markdown",
   "metadata": {},
   "source": [
    "Загружаем данные из CSV\n"
   ]
  },
  {
   "cell_type": "code",
   "execution_count": 24,
   "metadata": {},
   "outputs": [
    {
     "name": "stdout",
     "output_type": "stream",
     "text": [
      " * postgresql://postgres@localhost:5432/lab7\n",
      "750 rows affected.\n"
     ]
    },
    {
     "data": {
      "text/plain": [
       "[]"
      ]
     },
     "execution_count": 24,
     "metadata": {},
     "output_type": "execute_result"
    }
   ],
   "source": [
    "%%sql\n",
    "COPY survey(mydepv, price, income, age)\n",
    "FROM '/userdata/survey.csv'\n",
    "DELIMITER ','\n",
    "CSV HEADER;"
   ]
  },
  {
   "cell_type": "markdown",
   "metadata": {},
   "source": [
    "## Добавляем столбцы\n",
    "Добавляем `price20` (1 для 20\\$ 0 иначе) и `price30` (1 для 30\\$ 0 иначе)"
   ]
  },
  {
   "cell_type": "code",
   "execution_count": 25,
   "metadata": {},
   "outputs": [
    {
     "name": "stdout",
     "output_type": "stream",
     "text": [
      " * postgresql://postgres@localhost:5432/lab7\n",
      "Done.\n",
      "Done.\n"
     ]
    },
    {
     "data": {
      "text/plain": [
       "[]"
      ]
     },
     "execution_count": 25,
     "metadata": {},
     "output_type": "execute_result"
    }
   ],
   "source": [
    "%%sql\n",
    "ALTER TABLE survey ADD COLUMN price20 INTEGER;\n",
    "ALTER TABLE survey ADD COLUMN price30 INTEGER;"
   ]
  },
  {
   "cell_type": "code",
   "execution_count": 26,
   "metadata": {},
   "outputs": [
    {
     "name": "stdout",
     "output_type": "stream",
     "text": [
      " * postgresql://postgres@localhost:5432/lab7\n",
      "250 rows affected.\n",
      "500 rows affected.\n",
      "250 rows affected.\n",
      "500 rows affected.\n"
     ]
    },
    {
     "data": {
      "text/plain": [
       "[]"
      ]
     },
     "execution_count": 26,
     "metadata": {},
     "output_type": "execute_result"
    }
   ],
   "source": [
    "%%sql\n",
    "UPDATE survey SET price20 = 1 WHERE price = 20;\n",
    "UPDATE survey SET price20 = 0 WHERE price != 20;\n",
    "UPDATE survey SET price30 = 1 WHERE price = 30;\n",
    "UPDATE survey SET price30 = 0 WHERE price != 30;"
   ]
  },
  {
   "cell_type": "markdown",
   "metadata": {},
   "source": [
    "Создадим таблицу в таком формате: зависимая переменная, массив независимых переменных"
   ]
  },
  {
   "cell_type": "code",
   "execution_count": 27,
   "metadata": {},
   "outputs": [
    {
     "name": "stdout",
     "output_type": "stream",
     "text": [
      " * postgresql://postgres@localhost:5432/lab7\n",
      "Done.\n",
      "Done.\n"
     ]
    },
    {
     "data": {
      "text/plain": [
       "[]"
      ]
     },
     "execution_count": 27,
     "metadata": {},
     "output_type": "execute_result"
    }
   ],
   "source": [
    "%%sql\n",
    "DROP TABLE IF EXISTS survey2;\n",
    "CREATE TABLE survey2 (\n",
    "    mydepv BOOLEAN,\n",
    "    indepv INTEGER[]\n",
    ");"
   ]
  },
  {
   "cell_type": "markdown",
   "metadata": {},
   "source": [
    "Вставляем значения"
   ]
  },
  {
   "cell_type": "code",
   "execution_count": 28,
   "metadata": {},
   "outputs": [
    {
     "name": "stdout",
     "output_type": "stream",
     "text": [
      " * postgresql://postgres@localhost:5432/lab7\n",
      "750 rows affected.\n"
     ]
    },
    {
     "data": {
      "text/plain": [
       "[]"
      ]
     },
     "execution_count": 28,
     "metadata": {},
     "output_type": "execute_result"
    }
   ],
   "source": [
    "%%sql\n",
    "INSERT INTO survey2\n",
    "SELECT survey.mydepv::BOOL, \n",
    "ARRAY[1, survey.income, survey.age, survey.price20, survey.price30] AS arr FROM survey;"
   ]
  },
  {
   "cell_type": "markdown",
   "metadata": {},
   "source": [
    "Выведем первые 5"
   ]
  },
  {
   "cell_type": "code",
   "execution_count": 29,
   "metadata": {},
   "outputs": [
    {
     "name": "stdout",
     "output_type": "stream",
     "text": [
      " * postgresql://postgres@localhost:5432/lab7\n",
      "5 rows affected.\n"
     ]
    },
    {
     "data": {
      "text/html": [
       "<table>\n",
       "    <tr>\n",
       "        <th>mydepv</th>\n",
       "        <th>indepv</th>\n",
       "    </tr>\n",
       "    <tr>\n",
       "        <td>True</td>\n",
       "        <td>[1, 59, 55, 0, 1]</td>\n",
       "    </tr>\n",
       "    <tr>\n",
       "        <td>False</td>\n",
       "        <td>[1, 24, 37, 0, 1]</td>\n",
       "    </tr>\n",
       "    <tr>\n",
       "        <td>False</td>\n",
       "        <td>[1, 76, 43, 0, 1]</td>\n",
       "    </tr>\n",
       "    <tr>\n",
       "        <td>False</td>\n",
       "        <td>[1, 45, 32, 0, 1]</td>\n",
       "    </tr>\n",
       "    <tr>\n",
       "        <td>False</td>\n",
       "        <td>[1, 21, 46, 0, 1]</td>\n",
       "    </tr>\n",
       "</table>"
      ],
      "text/plain": [
       "[(True, [1, 59, 55, 0, 1]),\n",
       " (False, [1, 24, 37, 0, 1]),\n",
       " (False, [1, 76, 43, 0, 1]),\n",
       " (False, [1, 45, 32, 0, 1]),\n",
       " (False, [1, 21, 46, 0, 1])]"
      ]
     },
     "execution_count": 29,
     "metadata": {},
     "output_type": "execute_result"
    }
   ],
   "source": [
    "%%sql \n",
    "SELECT * FROM survey2 LIMIT 5;"
   ]
  },
  {
   "cell_type": "markdown",
   "metadata": {},
   "source": [
    "## Логистическая регрессия в MADlib"
   ]
  },
  {
   "cell_type": "code",
   "execution_count": 30,
   "metadata": {},
   "outputs": [
    {
     "name": "stdout",
     "output_type": "stream",
     "text": [
      " * postgresql://postgres@localhost:5432/lab7\n",
      "Done.\n",
      "1 rows affected.\n"
     ]
    },
    {
     "data": {
      "text/html": [
       "<table>\n",
       "    <tr>\n",
       "        <th>logregr_train</th>\n",
       "    </tr>\n",
       "    <tr>\n",
       "        <td></td>\n",
       "    </tr>\n",
       "</table>"
      ],
      "text/plain": [
       "[('',)]"
      ]
     },
     "execution_count": 30,
     "metadata": {},
     "output_type": "execute_result"
    }
   ],
   "source": [
    "%%sql\n",
    "DROP TABLE IF EXISTS survey_logregr, survey_logregr_summary;\n",
    "SELECT madlib.logregr_train('survey2',\n",
    "              'survey_logregr',\n",
    "              'mydepv',\n",
    "              'indepv');"
   ]
  },
  {
   "cell_type": "markdown",
   "metadata": {},
   "source": [
    "### Выведем summary"
   ]
  },
  {
   "cell_type": "code",
   "execution_count": 31,
   "metadata": {},
   "outputs": [
    {
     "name": "stdout",
     "output_type": "stream",
     "text": [
      " * postgresql://postgres@localhost:5432/lab7\n",
      "5 rows affected.\n"
     ]
    },
    {
     "data": {
      "text/html": [
       "<table>\n",
       "    <tr>\n",
       "        <th>attribute</th>\n",
       "        <th>coefficient</th>\n",
       "        <th>standard_error</th>\n",
       "        <th>z_stat</th>\n",
       "        <th>pvalue</th>\n",
       "        <th>odds_ratio</th>\n",
       "    </tr>\n",
       "    <tr>\n",
       "        <td>intercept</td>\n",
       "        <td>-6.02116057636787</td>\n",
       "        <td>0.532440923644448</td>\n",
       "        <td>-11.3085983983993</td>\n",
       "        <td>1.18974837145447e-29</td>\n",
       "        <td>0.00242685141358459</td>\n",
       "    </tr>\n",
       "    <tr>\n",
       "        <td>income</td>\n",
       "        <td>0.128759374924942</td>\n",
       "        <td>0.00923035837106702</td>\n",
       "        <td>13.9495531753723</td>\n",
       "        <td>3.16582525170149e-44</td>\n",
       "        <td>1.13741640032794</td>\n",
       "    </tr>\n",
       "    <tr>\n",
       "        <td>age</td>\n",
       "        <td>0.0350637796423411</td>\n",
       "        <td>0.0117900836733219</td>\n",
       "        <td>2.97400600486677</td>\n",
       "        <td>0.00293939322817078</td>\n",
       "        <td>1.03568576236067</td>\n",
       "    </tr>\n",
       "    <tr>\n",
       "        <td>price20</td>\n",
       "        <td>-0.744177494951807</td>\n",
       "        <td>0.264387873296036</td>\n",
       "        <td>-2.81471871487294</td>\n",
       "        <td>0.00488199444444116</td>\n",
       "        <td>0.475124931924531</td>\n",
       "    </tr>\n",
       "    <tr>\n",
       "        <td>price30</td>\n",
       "        <td>-2.21028046675832</td>\n",
       "        <td>0.311075548871486</td>\n",
       "        <td>-7.10528511410408</td>\n",
       "        <td>1.20074395698392e-12</td>\n",
       "        <td>0.109669885444447</td>\n",
       "    </tr>\n",
       "</table>"
      ],
      "text/plain": [
       "[('intercept', -6.02116057636787, 0.532440923644448, -11.3085983983993, 1.18974837145447e-29, 0.00242685141358459),\n",
       " ('income', 0.128759374924942, 0.00923035837106702, 13.9495531753723, 3.16582525170149e-44, 1.13741640032794),\n",
       " ('age', 0.0350637796423411, 0.0117900836733219, 2.97400600486677, 0.00293939322817078, 1.03568576236067),\n",
       " ('price20', -0.744177494951807, 0.264387873296036, -2.81471871487294, 0.00488199444444116, 0.475124931924531),\n",
       " ('price30', -2.21028046675832, 0.311075548871486, -7.10528511410408, 1.20074395698392e-12, 0.109669885444447)]"
      ]
     },
     "execution_count": 31,
     "metadata": {},
     "output_type": "execute_result"
    }
   ],
   "source": [
    "%%sql\n",
    "SELECT unnest(array['intercept',\n",
    "                    'income', \n",
    "                    'age', \n",
    "                    'price20', \n",
    "                    'price30']) AS attribute,\n",
    "       unnest(coef) AS coefficient,\n",
    "       unnest(std_err) AS standard_error,\n",
    "       unnest(z_stats) AS z_stat,\n",
    "       unnest(p_values) AS pvalue,\n",
    "       unnest(odds_ratios) AS odds_ratio\n",
    "    FROM survey_logregr;"
   ]
  },
  {
   "cell_type": "markdown",
   "metadata": {},
   "source": [
    "### Предсказывания"
   ]
  },
  {
   "cell_type": "code",
   "execution_count": 32,
   "metadata": {},
   "outputs": [
    {
     "name": "stdout",
     "output_type": "stream",
     "text": [
      " * postgresql://postgres@localhost:5432/lab7\n",
      "Done.\n",
      "Done.\n"
     ]
    },
    {
     "data": {
      "text/plain": [
       "[]"
      ]
     },
     "execution_count": 32,
     "metadata": {},
     "output_type": "execute_result"
    }
   ],
   "source": [
    "%%sql\n",
    "DROP TABLE IF EXISTS survey3;\n",
    "CREATE TABLE survey3(\n",
    "    mydepv INTEGER, \n",
    "    price INTEGER, \n",
    "    income INTEGER, \n",
    "    age INTEGER,\n",
    "    price20 INTEGER,\n",
    "    price30 INTEGER,\n",
    "    odds_ratio REAL, \n",
    "    prediction REAL\n",
    "    );"
   ]
  },
  {
   "cell_type": "markdown",
   "metadata": {},
   "source": [
    "Вставим значения во вторую таблицу с использованием функции MADlib. Для odds_ratio будем использовать коэффициенты (API уже изменен). "
   ]
  },
  {
   "cell_type": "code",
   "execution_count": 33,
   "metadata": {},
   "outputs": [
    {
     "name": "stdout",
     "output_type": "stream",
     "text": [
      " * postgresql://postgres@localhost:5432/lab7\n",
      "750 rows affected.\n"
     ]
    },
    {
     "data": {
      "text/plain": [
       "[]"
      ]
     },
     "execution_count": 33,
     "metadata": {},
     "output_type": "execute_result"
    }
   ],
   "source": [
    "%%sql\n",
    "INSERT INTO survey3\n",
    "SELECT mydepv,\n",
    "        price, \n",
    "        income, \n",
    "        age, \n",
    "        price20, \n",
    "        price30,\n",
    "        (coef[1] + \n",
    "        coef[2] * income + \n",
    "        coef[3] * age + \n",
    "        coef[4] * price20 + \n",
    "        coef[5] * price30) AS odds_ratio,\n",
    "        madlib.logregr_predict_prob(coef, ARRAY[1, \n",
    "                                            income, \n",
    "                                            age, \n",
    "                                            price20, \n",
    "                                            price30]) AS prediction\n",
    "FROM survey_logregr, survey AS s;"
   ]
  },
  {
   "cell_type": "markdown",
   "metadata": {},
   "source": [
    "Делаем предсказание для 58к 25 лет и 20\\$"
   ]
  },
  {
   "cell_type": "code",
   "execution_count": 34,
   "metadata": {},
   "outputs": [
    {
     "name": "stdout",
     "output_type": "stream",
     "text": [
      " * postgresql://postgres@localhost:5432/lab7\n",
      "1 rows affected.\n"
     ]
    },
    {
     "data": {
      "text/html": [
       "<table>\n",
       "    <tr>\n",
       "        <th>logregr_predict_prob</th>\n",
       "        <th>logregr_predict</th>\n",
       "    </tr>\n",
       "    <tr>\n",
       "        <td>0.829105381494624</td>\n",
       "        <td>True</td>\n",
       "    </tr>\n",
       "</table>"
      ],
      "text/plain": [
       "[(0.829105381494624, True)]"
      ]
     },
     "execution_count": 34,
     "metadata": {},
     "output_type": "execute_result"
    }
   ],
   "source": [
    "\n",
    "%%sql\n",
    "select madlib.logregr_predict_prob(coef,\n",
    "                ARRAY[1, 58, 25, 1, 0]),\n",
    "madlib.logregr_predict(coef,\n",
    "                ARRAY[1, 58, 25, 1, 0])\n",
    "from survey_logregr;\n"
   ]
  },
  {
   "cell_type": "markdown",
   "metadata": {},
   "source": [
    "Делаем предсказание для 649 долларов, 60 лет и 10 долларов"
   ]
  },
  {
   "cell_type": "code",
   "execution_count": 35,
   "metadata": {},
   "outputs": [
    {
     "name": "stdout",
     "output_type": "stream",
     "text": [
      " * postgresql://postgres@localhost:5432/lab7\n",
      "1 rows affected.\n"
     ]
    },
    {
     "data": {
      "text/html": [
       "<table>\n",
       "    <tr>\n",
       "        <th>logregr_predict_prob</th>\n",
       "        <th>logregr_predict</th>\n",
       "    </tr>\n",
       "    <tr>\n",
       "        <td>0.0211700814830798</td>\n",
       "        <td>False</td>\n",
       "    </tr>\n",
       "</table>"
      ],
      "text/plain": [
       "[(0.0211700814830798, False)]"
      ]
     },
     "execution_count": 35,
     "metadata": {},
     "output_type": "execute_result"
    }
   ],
   "source": [
    "\n",
    "%%sql\n",
    "select madlib.logregr_predict_prob(coef,\n",
    "                ARRAY[1, 0.649, 60, 0, 0]),\n",
    "madlib.logregr_predict(coef,\n",
    "                ARRAY[1, 0.649, 60, 0, 0])\n",
    "from survey_logregr;\n"
   ]
  },
  {
   "cell_type": "markdown",
   "metadata": {},
   "source": [
    "Проверим, что наши предсказания совпадают"
   ]
  },
  {
   "cell_type": "code",
   "execution_count": 36,
   "metadata": {},
   "outputs": [
    {
     "name": "stdout",
     "output_type": "stream",
     "text": [
      " * postgresql://postgres@localhost:5432/lab7\n",
      "1 rows affected.\n"
     ]
    },
    {
     "data": {
      "text/html": [
       "<table>\n",
       "    <tr>\n",
       "        <th>mydepv</th>\n",
       "        <th>prediction</th>\n",
       "    </tr>\n",
       "    <tr>\n",
       "        <td>324</td>\n",
       "        <td>324</td>\n",
       "    </tr>\n",
       "</table>"
      ],
      "text/plain": [
       "[(324, 324)]"
      ]
     },
     "execution_count": 36,
     "metadata": {},
     "output_type": "execute_result"
    }
   ],
   "source": [
    "%%sql\n",
    "SELECT SUM(mydepv) AS mydepv, SUM(prediction)::INTEGER AS prediction FROM survey3;"
   ]
  },
  {
   "cell_type": "markdown",
   "metadata": {},
   "source": [
    "Выведем результирующую таблицу"
   ]
  },
  {
   "cell_type": "code",
   "execution_count": 37,
   "metadata": {},
   "outputs": [
    {
     "name": "stdout",
     "output_type": "stream",
     "text": [
      " * postgresql://postgres@localhost:5432/lab7\n",
      "5 rows affected.\n"
     ]
    },
    {
     "data": {
      "text/html": [
       "<table>\n",
       "    <tr>\n",
       "        <th>mydepv</th>\n",
       "        <th>price</th>\n",
       "        <th>income</th>\n",
       "        <th>age</th>\n",
       "        <th>price20</th>\n",
       "        <th>price30</th>\n",
       "        <th>odds_ratio</th>\n",
       "        <th>prediction</th>\n",
       "    </tr>\n",
       "    <tr>\n",
       "        <td>1</td>\n",
       "        <td>30</td>\n",
       "        <td>59</td>\n",
       "        <td>55</td>\n",
       "        <td>0</td>\n",
       "        <td>1</td>\n",
       "        <td>1.29387</td>\n",
       "        <td>0.784801</td>\n",
       "    </tr>\n",
       "    <tr>\n",
       "        <td>0</td>\n",
       "        <td>30</td>\n",
       "        <td>24</td>\n",
       "        <td>37</td>\n",
       "        <td>0</td>\n",
       "        <td>1</td>\n",
       "        <td>-3.84386</td>\n",
       "        <td>0.0209621</td>\n",
       "    </tr>\n",
       "    <tr>\n",
       "        <td>0</td>\n",
       "        <td>30</td>\n",
       "        <td>76</td>\n",
       "        <td>43</td>\n",
       "        <td>0</td>\n",
       "        <td>1</td>\n",
       "        <td>3.06201</td>\n",
       "        <td>0.955298</td>\n",
       "    </tr>\n",
       "    <tr>\n",
       "        <td>0</td>\n",
       "        <td>30</td>\n",
       "        <td>45</td>\n",
       "        <td>32</td>\n",
       "        <td>0</td>\n",
       "        <td>1</td>\n",
       "        <td>-1.31523</td>\n",
       "        <td>0.211613</td>\n",
       "    </tr>\n",
       "    <tr>\n",
       "        <td>0</td>\n",
       "        <td>30</td>\n",
       "        <td>21</td>\n",
       "        <td>46</td>\n",
       "        <td>0</td>\n",
       "        <td>1</td>\n",
       "        <td>-3.91456</td>\n",
       "        <td>0.0195591</td>\n",
       "    </tr>\n",
       "</table>"
      ],
      "text/plain": [
       "[(1, 30, 59, 55, 0, 1, 1.29387, 0.784801),\n",
       " (0, 30, 24, 37, 0, 1, -3.84386, 0.0209621),\n",
       " (0, 30, 76, 43, 0, 1, 3.06201, 0.955298),\n",
       " (0, 30, 45, 32, 0, 1, -1.31523, 0.211613),\n",
       " (0, 30, 21, 46, 0, 1, -3.91456, 0.0195591)]"
      ]
     },
     "execution_count": 37,
     "metadata": {},
     "output_type": "execute_result"
    }
   ],
   "source": [
    "%%sql\n",
    "SELECT * FROM survey3 LIMIT 5;"
   ]
  },
  {
   "cell_type": "code",
   "execution_count": null,
   "metadata": {},
   "outputs": [],
   "source": []
  }
 ],
 "metadata": {
  "kernelspec": {
   "display_name": "Python 3",
   "language": "python",
   "name": "python3"
  },
  "language_info": {
   "codemirror_mode": {
    "name": "ipython",
    "version": 3
   },
   "file_extension": ".py",
   "mimetype": "text/x-python",
   "name": "python",
   "nbconvert_exporter": "python",
   "pygments_lexer": "ipython3",
   "version": "3.5.2"
  }
 },
 "nbformat": 4,
 "nbformat_minor": 4
}
